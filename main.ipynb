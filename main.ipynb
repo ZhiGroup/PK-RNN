{
 "cells": [
  {
   "cell_type": "markdown",
   "id": "31625067",
   "metadata": {},
   "source": [
    "## Running the PKRNN-2CM model\n",
    "This notebook provides a step-by-step guide on running the PKRNN-2CM model. \n",
    "1. Firstly, run the model without simulation to obtain predicted concentrations. \n",
    "2. Secondly, run the model with a chosen simulation option. This step involves creating a simulated dataset, using the predicted values as the ground truth, and then running the inference PKRNN-2CM model. If you also intend to run the inference PKRNN-1CM model, please refer to the \"master\" branch and use the simulated dataset for training the PKRNN-1CM model."
   ]
  },
  {
   "cell_type": "code",
   "execution_count": null,
   "id": "97458f16",
   "metadata": {},
   "outputs": [],
   "source": [
    "#import necessary packages\n",
    "import torch, random\n",
    "from train import run_model, set_seed\n",
    "\n",
    "#set device\n",
    "use_cuda = torch.cuda.is_available()\n",
    "if use_cuda: torch.cuda.set_device(3)                  #change the number to your device\n",
    "device = torch.device(\"cuda:3\" if use_cuda else \"cpu\") #change the number to your device\n",
    "#set seed\n",
    "set_seed(100)\n",
    "\n",
    "#set input and output files\n",
    "inFile = 'dataset.h5'         # the dataset file\n",
    "outFile = 'PKRNN_2CM_best.h5' # the output file containing the results of the predictions\n",
    "\n",
    "#set the parameter dictionary\n",
    "paramdict = {'real_vanco_to_feedback': True,\n",
    " 'change_regularize': 'square',\n",
    " 'eta1_var': 0.12,\n",
    " 'eta2_var': 0.149, \n",
    " 'eta3_var': 0.416, \n",
    " 'scale_change_eta': 100}"
   ]
  },
  {
   "cell_type": "markdown",
   "id": "ccf859c0",
   "metadata": {},
   "source": [
    "### Run the PKRNN-2CM model without simulation"
   ]
  },
  {
   "cell_type": "code",
   "execution_count": null,
   "id": "1458f29a",
   "metadata": {},
   "outputs": [],
   "source": [
    "RMSE_train, RMSE_valid, RMSE_test, best_epoch = run_model(inFile, device = device, paramdict = paramdict, dataFile = outFile)"
   ]
  },
  {
   "cell_type": "markdown",
   "id": "662f69c9",
   "metadata": {},
   "source": [
    "### Run the inference PKRNN-2CM model with the selected simulation option"
   ]
  },
  {
   "cell_type": "code",
   "execution_count": null,
   "id": "6b3cc9db",
   "metadata": {},
   "outputs": [],
   "source": [
    "simFile = 'results/PKRNN_2CM.pth' # the file we need to use for the simulation\n",
    "#simulation options\n",
    "loc = 'peak'\n",
    "sim_type = 'add_all'\n",
    "real_data = 'remove'"
   ]
  },
  {
   "cell_type": "code",
   "execution_count": null,
   "id": "f955e8f2",
   "metadata": {},
   "outputs": [],
   "source": [
    "#run the model with the selected simulation option\n",
    "RMSE_train, RMSE_valid, RMSE_test, best_epoch = run_model(inFile, device = device, paramdict = paramdict, dataFile = outFile, \n",
    "                                                          simulation = True, loc = loc, sim_type = sim_type, real_data = real_data)"
   ]
  },
  {
   "cell_type": "markdown",
   "id": "f2a49dec",
   "metadata": {},
   "source": [
    "## Model evaluation \n",
    "The following cells illustrate how to evaluate the predicted concentrations from the inference models. \n",
    "1. The evaluation uses Root Mean Square Error (RMSE) as the metric to compare the simulated ground truth time-concentration curve with the predicted curve from either the PKRNN-1CM or PKRNN-2CM inference model. \n",
    "2. You have the flexibility to choose the evaluation focus on peak level, trough level, or both, this choice can be different with the simulation location choice.\n",
    "3. Additionally, you may opt to evaluate the first half of the curve, the later half, or the whole curve based on your preferences."
   ]
  },
  {
   "cell_type": "code",
   "execution_count": null,
   "id": "c532ab6d",
   "metadata": {},
   "outputs": [],
   "source": [
    "from evaluation import evaluation\n",
    "#set files to read data and model\n",
    "File = f'batches_{loc}_{sim_type}_{real_data}_step2.h5'\n",
    "underlying_path = f'results/PKRNN_2CM_sim_{loc}_{sim_type}_{real_data}_step1.pth'"
   ]
  },
  {
   "cell_type": "markdown",
   "id": "fd54dd35",
   "metadata": {},
   "source": [
    "### Evaluate the inference PKRNN-1CM model"
   ]
  },
  {
   "cell_type": "code",
   "execution_count": null,
   "id": "3c42b363",
   "metadata": {},
   "outputs": [],
   "source": [
    "inference_path = f'\\results/PKRNN_1CM_sim_{loc}_{sim_type}_{real_data}.pth'"
   ]
  },
  {
   "cell_type": "code",
   "execution_count": null,
   "id": "b4d42f39",
   "metadata": {},
   "outputs": [],
   "source": [
    "# Evaluate on peaks, only elvaulate the early half of the curve\n",
    "evaluation(File, underlying_path, inference_path, device, model_name = 'PKRNN_1CM', eval_loc = 'peak', eval_type = 'early')\n",
    "# Evaluate on troughs, evaluate the whole curve\n",
    "evaluation(File, underlying_path, inference_path, device, model_name = 'PKRNN_1CM', eval_loc = 'trough', eval_type = 'whole')\n",
    "# Evaluate on peaks and troughs, only evaluate the later half of the curve\n",
    "evaluation(File, underlying_path, inference_path, device, model_name = 'PKRNN_1CM', eval_loc = 'both', eval_type = 'later')"
   ]
  },
  {
   "cell_type": "markdown",
   "id": "6ba2f55c",
   "metadata": {},
   "source": [
    "### Evaluate the inference PKRNN-2CM model"
   ]
  },
  {
   "cell_type": "code",
   "execution_count": null,
   "id": "a77dcab5",
   "metadata": {},
   "outputs": [],
   "source": [
    "inference_path2 = f'results/PKRNN_2CM_sim_{loc}_{sim_type}_{real_data}.pth'"
   ]
  },
  {
   "cell_type": "code",
   "execution_count": null,
   "id": "9adc996a",
   "metadata": {},
   "outputs": [],
   "source": [
    "# Evaluate on peaks, only elvaulate the early half of the curve\n",
    "evaluation(File, underlying_path, inference_path, device, model_name = 'PKRNN_2CM', eval_loc = 'peak', eval_type = 'early')\n",
    "# Evaluate on troughs, evaluate the whole curve\n",
    "evaluation(File, underlying_path, inference_path, device, model_name = 'PKRNN_2CM', eval_loc = 'trough', eval_type = 'whole')\n",
    "# Evaluate on peaks and troughs, only evaluate the later half of the curve\n",
    "evaluation(File, underlying_path, inference_path, device, model_name = 'PKRNN_2CM', eval_loc = 'both', eval_type = 'later')"
   ]
  }
 ],
 "metadata": {
  "kernelspec": {
   "display_name": "py_38_env",
   "language": "python",
   "name": "py_38_env"
  },
  "language_info": {
   "codemirror_mode": {
    "name": "ipython",
    "version": 3
   },
   "file_extension": ".py",
   "mimetype": "text/x-python",
   "name": "python",
   "nbconvert_exporter": "python",
   "pygments_lexer": "ipython3",
   "version": "3.8.8"
  }
 },
 "nbformat": 4,
 "nbformat_minor": 5
}
